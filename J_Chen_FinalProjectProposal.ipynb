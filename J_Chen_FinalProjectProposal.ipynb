{
 "cells": [
  {
   "cell_type": "markdown",
   "metadata": {
    "id": "JuaoouDKD70O"
   },
   "source": [
    "<h3><center>Final Project Proposal\n",
    "    <br>By Anna Imhoff, Randy Leon, and Jinming Chen</br></h3></center>"
   ]
  },
  {
   "cell_type": "markdown",
   "metadata": {
    "id": "zcJGMfJXD70R"
   },
   "source": [
    "<h3><b>Introduction</b></h3>"
   ]
  },
  {
   "cell_type": "markdown",
   "metadata": {
    "id": "bfgOWZKID70T"
   },
   "source": [
    "Yeshiva University is currently in the quiet phase of a \\\\$650 million capital campaign which will span 8 fiscal years.  Typically, an organization announces a fundraising campaign to the public when they are about half way to their goal. The University has already laid the ground work for securing large gifts from some of our best donors.  Many of these donors plan to make large gifts at the beginning of the campaign, but as the campaign continues on, it can be hard to garner support when we have already asked our most loyal supporters for gifts.  By providing appropriate data analytics now, Yeshiva University can begin to cultivate donors that may not currently be on our radar so that they can help us close out the final years of the campaign and hit our goal of \\\\$650 million. "
   ]
  },
  {
   "cell_type": "markdown",
   "metadata": {
    "id": "hmuzLJZhD70T"
   },
   "source": [
    "<h3><b>Research Questions</b></h3>"
   ]
  },
  {
   "cell_type": "markdown",
   "metadata": {
    "id": "vHFW3rCjD70U"
   },
   "source": [
    "First, we want to find out if a person will donate or not. Once we find our potential donors (classified as 1), what will be the amount of their donation?  Nonprofit organizations run on donations and serve to further a good cause. In the case of Yeshiva University, donations will serve to further advance the University so that it can provide a valuable secondary school experience to all of its students. Approaching people that are more likely to donate will save time and generate more revenue for the University to use towards scholarships, professorships, building renovations, and capital improvements."
   ]
  },
  {
   "cell_type": "markdown",
   "metadata": {
    "id": "nFtH1lTfD70U"
   },
   "source": [
    "<h3><b>Data to be Used</b></h3>"
   ]
  },
  {
   "cell_type": "markdown",
   "metadata": {
    "id": "ZVG71G56D70V"
   },
   "source": [
    "Data will need to be collected from Yeshiva University's Department of Institutional Advancement's Ellucian CRM Advance database.  We will export the various attributes into a CSV file. Any identifiying information about a specific donor will be removed from the dataset such as ID number, name, and home address.  We will leave in city and state because location may be important in answering our research question."
   ]
  },
  {
   "cell_type": "markdown",
   "metadata": {
    "id": "y3xkZ1O9D70V"
   },
   "source": [
    "<h3><b>Approach</b></h3>"
   ]
  },
  {
   "cell_type": "markdown",
   "metadata": {
    "id": "1yrAb8NaD70W"
   },
   "source": [
    "We will be storing our data in an Amazon S3 bucket if it is a sizable file, otherwise, we will be storing the .csv file in one of our personal GitHubs and have Python call it from there. \n",
    "\n",
    "Exploratory data analysis will serve as the basis for our analysis that will include summary statistics for our numeric variables and count statistics on our categorical variables. Histograms/box and whisker plots will be generated for all numeric variables, while boxplots will be generated for all categorical variables. \n",
    "\n",
    "To predict whether or not someone will donate (categorical response variable) our team will make separate use of a logistic regression model, a KNN classifier, and an SVM classifier. \n",
    "\n",
    "To predict **how much** our expected donors will donate, (floating point variable) our team will make separate use of a XGBoost model, a Multiple Linear Regression Model, and a Support Vector Machine model. \n",
    "\n",
    "Our ensemble model go up against the predictions of our separate three models used to predict how much our initially classified donors will donate. We will use the boosting method to aggregate results from a multiple linear regression model, a KNN regressor, a SVM regressor, and a decision tree regressor. We will compare our results using statistics such as R-squared, adjusted R-squared, F statistics, and accuracy, precision, F1 Score, AIC, and BIC where appropriate.\n",
    "\n",
    "Conclusions on how well all models fared will end the project."
   ]
  },
  {
   "cell_type": "code",
   "execution_count": null,
   "metadata": {
    "id": "zl7xwc2JD70X"
   },
   "outputs": [],
   "source": []
  }
 ],
 "metadata": {
  "colab": {
   "name": "R_Leon_FinalProjectProposal.ipynb",
   "provenance": []
  },
  "kernelspec": {
   "display_name": "Python 3",
   "language": "python",
   "name": "python3"
  },
  "language_info": {
   "codemirror_mode": {
    "name": "ipython",
    "version": 3
   },
   "file_extension": ".py",
   "mimetype": "text/x-python",
   "name": "python",
   "nbconvert_exporter": "python",
   "pygments_lexer": "ipython3",
   "version": "3.8.3"
  }
 },
 "nbformat": 4,
 "nbformat_minor": 1
}
